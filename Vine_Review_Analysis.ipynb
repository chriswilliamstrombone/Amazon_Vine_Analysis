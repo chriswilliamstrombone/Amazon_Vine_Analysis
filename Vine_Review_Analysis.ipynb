{
  "nbformat": 4,
  "nbformat_minor": 0,
  "metadata": {
    "colab": {
      "name": "Vine_Review_Analysis.ipynb",
      "provenance": [],
      "collapsed_sections": []
    },
    "kernelspec": {
      "name": "python3",
      "display_name": "Python 3"
    }
  },
  "cells": [
    {
      "cell_type": "code",
      "metadata": {
        "id": "lQp-vBKq1Xlh",
        "outputId": "6764f932-8c97-4414-a857-bc8ebb8e6826",
        "colab": {
          "base_uri": "https://localhost:8080/"
        }
      },
      "source": [
        "import os\n",
        "# Find the latest version of spark 2.0  from http://www-us.apache.org/dist/spark/ and enter as the spark version\n",
        "# For example:\n",
        "# spark_version = 'spark-3.0.0'\n",
        "spark_version = 'spark-3.0.1'\n",
        "os.environ['SPARK_VERSION']=spark_version\n",
        "\n",
        "# Install Spark and Java\n",
        "!apt-get update\n",
        "!apt-get install openjdk-11-jdk-headless -qq > /dev/null\n",
        "!wget -q http://www-us.apache.org/dist/spark/$SPARK_VERSION/$SPARK_VERSION-bin-hadoop2.7.tgz\n",
        "!tar xf $SPARK_VERSION-bin-hadoop2.7.tgz\n",
        "!pip install -q findspark\n",
        "\n",
        "# Set Environment Variables\n",
        "import os\n",
        "os.environ[\"JAVA_HOME\"] = \"/usr/lib/jvm/java-11-openjdk-amd64\"\n",
        "os.environ[\"SPARK_HOME\"] = f\"/content/{spark_version}-bin-hadoop2.7\"\n",
        "\n",
        "# Start a SparkSession\n",
        "import findspark\n",
        "findspark.init()"
      ],
      "execution_count": 83,
      "outputs": [
        {
          "output_type": "stream",
          "text": [
            "\r0% [Working]\r            \rGet:1 http://security.ubuntu.com/ubuntu bionic-security InRelease [88.7 kB]\n",
            "\r0% [Connecting to archive.ubuntu.com (91.189.88.142)] [1 InRelease 2,586 B/88.7\r                                                                               \rIgn:2 https://developer.download.nvidia.com/compute/cuda/repos/ubuntu1804/x86_64  InRelease\n",
            "\r0% [Waiting for headers] [1 InRelease 63.4 kB/88.7 kB 71%] [Waiting for headers\r0% [Waiting for headers] [Waiting for headers] [Waiting for headers] [Waiting f\r0% [1 InRelease gpgv 88.7 kB] [Waiting for headers] [Waiting for headers] [Wait\r                                                                               \rHit:3 https://cloud.r-project.org/bin/linux/ubuntu bionic-cran40/ InRelease\n",
            "\r0% [1 InRelease gpgv 88.7 kB] [Waiting for headers] [Waiting for headers] [Wait\r                                                                               \rIgn:4 https://developer.download.nvidia.com/compute/machine-learning/repos/ubuntu1804/x86_64  InRelease\n",
            "\r                                                                               \r0% [1 InRelease gpgv 88.7 kB] [Waiting for headers] [Waiting for headers]\r                                                                         \rHit:5 http://ppa.launchpad.net/c2d4u.team/c2d4u4.0+/ubuntu bionic InRelease\n",
            "\r0% [1 InRelease gpgv 88.7 kB] [Waiting for headers] [Connecting to ppa.launchpa\r                                                                               \rHit:6 http://archive.ubuntu.com/ubuntu bionic InRelease\n",
            "\r0% [1 InRelease gpgv 88.7 kB] [Waiting for headers] [Connecting to ppa.launchpa\r                                                                               \rHit:7 https://developer.download.nvidia.com/compute/cuda/repos/ubuntu1804/x86_64  Release\n",
            "Hit:8 https://developer.download.nvidia.com/compute/machine-learning/repos/ubuntu1804/x86_64  Release\n",
            "Get:9 http://archive.ubuntu.com/ubuntu bionic-updates InRelease [88.7 kB]\n",
            "Hit:10 http://ppa.launchpad.net/graphics-drivers/ppa/ubuntu bionic InRelease\n",
            "Get:11 http://archive.ubuntu.com/ubuntu bionic-backports InRelease [74.6 kB]\n",
            "Fetched 252 kB in 2s (154 kB/s)\n",
            "Reading package lists... Done\n"
          ],
          "name": "stdout"
        }
      ]
    },
    {
      "cell_type": "code",
      "metadata": {
        "id": "pQbQ2igr2VK-",
        "outputId": "c1f015fa-0e93-43ec-845a-1a382befbac3",
        "colab": {
          "base_uri": "https://localhost:8080/"
        }
      },
      "source": [
        "# Download the Postgres driver that will allow Spark to interact with Postgres.\n",
        "!wget https://jdbc.postgresql.org/download/postgresql-42.2.16.jar"
      ],
      "execution_count": 84,
      "outputs": [
        {
          "output_type": "stream",
          "text": [
            "--2020-10-31 18:26:10--  https://jdbc.postgresql.org/download/postgresql-42.2.16.jar\n",
            "Resolving jdbc.postgresql.org (jdbc.postgresql.org)... 72.32.157.228, 2001:4800:3e1:1::228\n",
            "Connecting to jdbc.postgresql.org (jdbc.postgresql.org)|72.32.157.228|:443... connected.\n",
            "HTTP request sent, awaiting response... 200 OK\n",
            "Length: 1002883 (979K) [application/java-archive]\n",
            "Saving to: ‘postgresql-42.2.16.jar.1’\n",
            "\n",
            "postgresql-42.2.16. 100%[===================>] 979.38K  5.58MB/s    in 0.2s    \n",
            "\n",
            "2020-10-31 18:26:10 (5.58 MB/s) - ‘postgresql-42.2.16.jar.1’ saved [1002883/1002883]\n",
            "\n"
          ],
          "name": "stdout"
        }
      ]
    },
    {
      "cell_type": "code",
      "metadata": {
        "id": "dsoFKNCn2cDW"
      },
      "source": [
        "from pyspark.sql import SparkSession\n",
        "spark = SparkSession.builder.appName(\"BigData-Challenge\").config(\"spark.driver.extraClassPath\",\"/content/postgresql-42.2.16.jar\").getOrCreate()"
      ],
      "execution_count": 85,
      "outputs": []
    },
    {
      "cell_type": "code",
      "metadata": {
        "id": "g9lZj4102hoY",
        "outputId": "4e9a95c7-6397-44b8-f533-aa0b34440b90",
        "colab": {
          "base_uri": "https://localhost:8080/"
        }
      },
      "source": [
        "from pyspark import SparkFiles\n",
        "url = \"https://s3.amazonaws.com/amazon-reviews-pds/tsv/amazon_reviews_us_Outdoors_v1_00.tsv.gz\"\n",
        "spark.sparkContext.addFile(url)\n",
        "df = spark.read.option(\"encoding\", \"UTF-8\").csv(SparkFiles.get(\"\"), sep=\"\\t\", header=True, inferSchema=True)\n",
        "df.show()"
      ],
      "execution_count": 86,
      "outputs": [
        {
          "output_type": "stream",
          "text": [
            "+-----------+-----------+--------------+----------+--------------+--------------------+----------------+-----------+-------------+-----------+----+-----------------+--------------------+--------------------+-----------+\n",
            "|marketplace|customer_id|     review_id|product_id|product_parent|       product_title|product_category|star_rating|helpful_votes|total_votes|vine|verified_purchase|     review_headline|         review_body|review_date|\n",
            "+-----------+-----------+--------------+----------+--------------+--------------------+----------------+-----------+-------------+-----------+----+-----------------+--------------------+--------------------+-----------+\n",
            "|         US|   18446823|R35T75OLUGHL5C|B000NV6H94|     110804376|Stearns Youth Boa...|        Outdoors|          4|            0|          0|   N|                Y|          Four Stars|          GOOD VALUE| 2015-08-31|\n",
            "|         US|   13724367|R2BV735O46BN33|B000IN0W3Y|     624096774|Primal Wear Men's...|        Outdoors|          5|            0|          0|   N|                Y|          Five Stars|  Excellent quality.| 2015-08-31|\n",
            "|         US|   51001958|R2NBEUGPQQGXP1|B008RBJXFM|     278970944|Osprey Hydraulics...|        Outdoors|          4|            0|          0|   N|                Y|Only Flaw Is The Cap|3rd season using ...| 2015-08-31|\n",
            "|         US|   32866903|R17LLAOJ8ITK0S|B00FK8WUQY|     312877650|CamelBak eddy .75...|        Outdoors|          3|            1|          1|   N|                Y|Poor design leads...|poor construction...| 2015-08-31|\n",
            "|         US|   30907790|R39PEQBT5ISEF4|B00EZA3VW0|     305567912|Children Black Re...|        Outdoors|          1|            0|          0|   N|                Y|Very bad quality,...|Very bad quality,...| 2015-08-31|\n",
            "|         US|   20232229|R3GNM3SU9VHJFT|B006JA8WEG|     842306035|Ibera Bicycle Tri...|        Outdoors|          4|            1|          1|   N|                Y|Nice bag. Should ...|Nice bag. Should ...| 2015-08-31|\n",
            "|         US|   17698862| R2Y81OP0EK467|B002PWFSEO|     451480122|Therm-a-Rest Comp...|        Outdoors|          5|            0|          0|   N|                Y|Very comfortable ...|Gave this to my s...| 2015-08-31|\n",
            "|         US|   38486114|R2LFGSI6HAYH5F|B002DZGKHW|     124386306|Sawyer Products P...|        Outdoors|          5|            1|          1|   N|                Y| Worked like a charm|Went on vacation ...| 2015-08-31|\n",
            "|         US|   26319572|R297G6ED1IQO7W|B00ABA08F6|     991442421|Zippo Hand Warmer...|        Outdoors|          5|            1|          1|   N|                Y|Great item. Gets ...|Great item. Gets ...| 2015-08-31|\n",
            "|         US|   27152337| RE27RFC6101N6|B003Z8WIHC|     886483892|Camp Chef Dutch O...|        Outdoors|          5|            0|          0|   N|                Y|Great value for t...|I am so glad I bo...| 2015-08-31|\n",
            "|         US|   12516845|R3BPDME6E94W8Z|B007CP6UK0|     150224054|3CERA Portable Wi...|        Outdoors|          5|            0|          0|   N|                Y|          Five Stars|        good to have| 2015-08-31|\n",
            "|         US|    3225242|R2P08O1RILUOX3|B003V3U9JK|     343847969|Texsport King Kot...|        Outdoors|          3|            0|          0|   N|                Y|Cot set up inconv...|VERY difficult to...| 2015-08-31|\n",
            "|         US|     961839|R37CVAB03PTDVI|B00Y846HN8|     858088629|Wallygadgets 2 Wh...|        Outdoors|          5|            0|          1|   N|                Y|          Five Stars|Thanks excellent ...| 2015-08-31|\n",
            "|         US|   47796452| RAWNWOGXPCPMD|B00IYQ84VY|     474493517|RainStoppers 34-I...|        Outdoors|          5|            0|          0|   N|                Y|          Five Stars|This umbrella is ...| 2015-08-31|\n",
            "|         US|   32004835| R5DYGP6ASX77M|B002MYCKLY|     920014456|Alpha Deluxe Port...|        Outdoors|          5|            0|          0|   N|                Y|          Five Stars|Love it !! I even...| 2015-08-31|\n",
            "|         US|   23972939|R1O0SAOOGF2KG7|B00EZV69JG|     128489321|Speedfil Z4 BTA B...|        Outdoors|          4|            0|          0|   N|                Y|        Good enough.|This is a fine mo...| 2015-08-31|\n",
            "|         US|   40889047|R35NJUT0U3MU3V|B00AWOT3T8|     571303876|O'Brien Kids Plat...|        Outdoors|          5|            0|          0|   N|                Y| Got Up on First Try|We just bought th...| 2015-08-31|\n",
            "|         US|   11244387|R242C08MF9D1AH|B0000AXTID|     739769424|Kwik-Tek F-5R Pla...|        Outdoors|          5|            0|          0|   N|                Y|They go over an a...|I have these on m...| 2015-08-31|\n",
            "|         US|   20121211| R3RYG8TJTO4E2|B00IFHFJXI|     984009972|Ivation Portable ...|        Outdoors|          5|            0|          0|   N|                Y|Greatest Item I b...|This is the best ...| 2015-08-31|\n",
            "|         US|   25657249|R3IKH1DNY0CP9F|B00KFILTWU|     405521681|GreenInsync Repla...|        Outdoors|          2|            0|          0|   N|                Y|I received this p...|I received this p...| 2015-08-31|\n",
            "+-----------+-----------+--------------+----------+--------------+--------------------+----------------+-----------+-------------+-----------+----+-----------------+--------------------+--------------------+-----------+\n",
            "only showing top 20 rows\n",
            "\n"
          ],
          "name": "stdout"
        }
      ]
    },
    {
      "cell_type": "code",
      "metadata": {
        "id": "wrP4-mwt2iZ2",
        "outputId": "855d37b3-305b-4b85-8849-296edd7ae49b",
        "colab": {
          "base_uri": "https://localhost:8080/"
        }
      },
      "source": [
        "# Create the vine_table. DataFrame\n",
        "vine_df = df.select([\"review_id\", \"star_rating\", \"helpful_votes\", \"total_votes\", \"vine\", \"verified_purchase\"])\n",
        "vine_df.show()"
      ],
      "execution_count": 87,
      "outputs": [
        {
          "output_type": "stream",
          "text": [
            "+--------------+-----------+-------------+-----------+----+-----------------+\n",
            "|     review_id|star_rating|helpful_votes|total_votes|vine|verified_purchase|\n",
            "+--------------+-----------+-------------+-----------+----+-----------------+\n",
            "|R35T75OLUGHL5C|          4|            0|          0|   N|                Y|\n",
            "|R2BV735O46BN33|          5|            0|          0|   N|                Y|\n",
            "|R2NBEUGPQQGXP1|          4|            0|          0|   N|                Y|\n",
            "|R17LLAOJ8ITK0S|          3|            1|          1|   N|                Y|\n",
            "|R39PEQBT5ISEF4|          1|            0|          0|   N|                Y|\n",
            "|R3GNM3SU9VHJFT|          4|            1|          1|   N|                Y|\n",
            "| R2Y81OP0EK467|          5|            0|          0|   N|                Y|\n",
            "|R2LFGSI6HAYH5F|          5|            1|          1|   N|                Y|\n",
            "|R297G6ED1IQO7W|          5|            1|          1|   N|                Y|\n",
            "| RE27RFC6101N6|          5|            0|          0|   N|                Y|\n",
            "|R3BPDME6E94W8Z|          5|            0|          0|   N|                Y|\n",
            "|R2P08O1RILUOX3|          3|            0|          0|   N|                Y|\n",
            "|R37CVAB03PTDVI|          5|            0|          1|   N|                Y|\n",
            "| RAWNWOGXPCPMD|          5|            0|          0|   N|                Y|\n",
            "| R5DYGP6ASX77M|          5|            0|          0|   N|                Y|\n",
            "|R1O0SAOOGF2KG7|          4|            0|          0|   N|                Y|\n",
            "|R35NJUT0U3MU3V|          5|            0|          0|   N|                Y|\n",
            "|R242C08MF9D1AH|          5|            0|          0|   N|                Y|\n",
            "| R3RYG8TJTO4E2|          5|            0|          0|   N|                Y|\n",
            "|R3IKH1DNY0CP9F|          2|            0|          0|   N|                Y|\n",
            "+--------------+-----------+-------------+-----------+----+-----------------+\n",
            "only showing top 20 rows\n",
            "\n"
          ],
          "name": "stdout"
        }
      ]
    },
    {
      "cell_type": "code",
      "metadata": {
        "id": "tAPzjEzj4dhw",
        "outputId": "2d5bb6f7-7467-44e2-9abb-83a712579a18",
        "colab": {
          "base_uri": "https://localhost:8080/"
        }
      },
      "source": [
        "# Step 1: Create a new DF: condition => total_votes>=20\n",
        "filtered_vine_df = vine_df.filter('total_votes>=20')\n",
        "filtered_vine_df.show()"
      ],
      "execution_count": 88,
      "outputs": [
        {
          "output_type": "stream",
          "text": [
            "+--------------+-----------+-------------+-----------+----+-----------------+\n",
            "|     review_id|star_rating|helpful_votes|total_votes|vine|verified_purchase|\n",
            "+--------------+-----------+-------------+-----------+----+-----------------+\n",
            "|R2FP3U4NHNFNL2|          5|           25|         29|   N|                Y|\n",
            "|R1UUK1977O38MU|          5|           31|         31|   N|                Y|\n",
            "| RXO216LWUDV6O|          3|           29|         31|   N|                Y|\n",
            "|R3NMJF7EBMM19V|          3|           26|         27|   N|                Y|\n",
            "|R2ZY0ZBDUO0XUY|          3|           20|         21|   N|                Y|\n",
            "| RBDVHX7PMQEKM|          5|           35|         39|   N|                Y|\n",
            "| RGO3KSDXYWTGU|          4|           26|         26|   N|                Y|\n",
            "|R2O4P39D0ALCQK|          2|           14|         43|   N|                Y|\n",
            "|R1E1PQGHWGO3Q1|          1|           89|         96|   N|                Y|\n",
            "|R1XOXXUVYZEDJB|          5|           22|         22|   N|                Y|\n",
            "| R7SHITUU5UG9U|          5|           27|         27|   N|                Y|\n",
            "|R230TLHU91M5Y3|          4|           21|         21|   N|                Y|\n",
            "| RHR5MKO23K9TU|          5|           26|         30|   N|                Y|\n",
            "|R1HGK3TCY161D7|          5|           52|         55|   N|                N|\n",
            "|R340QYAVNZZHJA|          4|           25|         25|   N|                N|\n",
            "|R2F1UVQK0JL4QH|          3|           20|         20|   N|                Y|\n",
            "|R1N21UY546VWMN|          2|           48|         50|   N|                Y|\n",
            "|R1E4L344EK0ZOT|          5|           20|         26|   N|                N|\n",
            "|R282QUZDDJW3ON|          4|           45|         49|   N|                Y|\n",
            "|R3H5T3T7QY3ZL2|          5|          247|        263|   N|                Y|\n",
            "+--------------+-----------+-------------+-----------+----+-----------------+\n",
            "only showing top 20 rows\n",
            "\n"
          ],
          "name": "stdout"
        }
      ]
    },
    {
      "cell_type": "code",
      "metadata": {
        "id": "mr5Is9zz4-tp",
        "outputId": "9d7213bd-281c-432a-b47c-96ab3966999b",
        "colab": {
          "base_uri": "https://localhost:8080/"
        }
      },
      "source": [
        "# Step 2: Create a new DF: condition => helpful_votes/total_votes >= 50%\n",
        "helpful_votes50_df = filtered_vine_df.withColumn('grater50', filtered_vine_df['helpful_votes'] / filtered_vine_df['total_votes']).filter('grater50>=0.5')\n",
        "helpful_votes50_df.show()"
      ],
      "execution_count": 89,
      "outputs": [
        {
          "output_type": "stream",
          "text": [
            "+--------------+-----------+-------------+-----------+----+-----------------+------------------+\n",
            "|     review_id|star_rating|helpful_votes|total_votes|vine|verified_purchase|          grater50|\n",
            "+--------------+-----------+-------------+-----------+----+-----------------+------------------+\n",
            "|R2FP3U4NHNFNL2|          5|           25|         29|   N|                Y|0.8620689655172413|\n",
            "|R1UUK1977O38MU|          5|           31|         31|   N|                Y|               1.0|\n",
            "| RXO216LWUDV6O|          3|           29|         31|   N|                Y|0.9354838709677419|\n",
            "|R3NMJF7EBMM19V|          3|           26|         27|   N|                Y|0.9629629629629629|\n",
            "|R2ZY0ZBDUO0XUY|          3|           20|         21|   N|                Y|0.9523809523809523|\n",
            "| RBDVHX7PMQEKM|          5|           35|         39|   N|                Y|0.8974358974358975|\n",
            "| RGO3KSDXYWTGU|          4|           26|         26|   N|                Y|               1.0|\n",
            "|R1E1PQGHWGO3Q1|          1|           89|         96|   N|                Y|0.9270833333333334|\n",
            "|R1XOXXUVYZEDJB|          5|           22|         22|   N|                Y|               1.0|\n",
            "| R7SHITUU5UG9U|          5|           27|         27|   N|                Y|               1.0|\n",
            "|R230TLHU91M5Y3|          4|           21|         21|   N|                Y|               1.0|\n",
            "| RHR5MKO23K9TU|          5|           26|         30|   N|                Y|0.8666666666666667|\n",
            "|R1HGK3TCY161D7|          5|           52|         55|   N|                N|0.9454545454545454|\n",
            "|R340QYAVNZZHJA|          4|           25|         25|   N|                N|               1.0|\n",
            "|R2F1UVQK0JL4QH|          3|           20|         20|   N|                Y|               1.0|\n",
            "|R1N21UY546VWMN|          2|           48|         50|   N|                Y|              0.96|\n",
            "|R1E4L344EK0ZOT|          5|           20|         26|   N|                N|0.7692307692307693|\n",
            "|R282QUZDDJW3ON|          4|           45|         49|   N|                Y|0.9183673469387755|\n",
            "|R3H5T3T7QY3ZL2|          5|          247|        263|   N|                Y|0.9391634980988594|\n",
            "|R3W1A1P95IIGHX|          5|           23|         25|   N|                N|              0.92|\n",
            "+--------------+-----------+-------------+-----------+----+-----------------+------------------+\n",
            "only showing top 20 rows\n",
            "\n"
          ],
          "name": "stdout"
        }
      ]
    },
    {
      "cell_type": "code",
      "metadata": {
        "id": "Al73AtN39Xkr",
        "outputId": "960098cb-8056-4e8f-99f2-ce992336625d",
        "colab": {
          "base_uri": "https://localhost:8080/"
        }
      },
      "source": [
        "# Step 3: Create a new DF: condition => vine=='Y'\n",
        "vine_Y_df = helpful_votes50_df.filter(helpful_votes50_df['vine'] == 'Y')\n",
        "vine_Y_df.show()"
      ],
      "execution_count": 90,
      "outputs": [
        {
          "output_type": "stream",
          "text": [
            "+--------------+-----------+-------------+-----------+----+-----------------+------------------+\n",
            "|     review_id|star_rating|helpful_votes|total_votes|vine|verified_purchase|          grater50|\n",
            "+--------------+-----------+-------------+-----------+----+-----------------+------------------+\n",
            "|R3KPC0NBUDASX3|          5|           25|         25|   Y|                N|               1.0|\n",
            "|R119P2A95GGXX4|          5|           26|         28|   Y|                N|0.9285714285714286|\n",
            "|R1HKIRME8AJ89Z|          5|           79|         82|   Y|                N|0.9634146341463414|\n",
            "|R3FY3GMBGOBR22|          5|           12|         20|   Y|                N|               0.6|\n",
            "|R15KH3FBSVYGBU|          5|           32|         37|   Y|                N|0.8648648648648649|\n",
            "|R22XZEQLVLWW49|          5|           28|         33|   Y|                N|0.8484848484848485|\n",
            "|R2OIQYVAL9D63R|          4|           59|         65|   Y|                N|0.9076923076923077|\n",
            "|R1W3KCDHM6BMZT|          4|           37|         38|   Y|                N|0.9736842105263158|\n",
            "|R3KDMPS96IJ10R|          2|           15|         21|   Y|                N|0.7142857142857143|\n",
            "|R1XWEI58A7VKLB|          5|          123|        128|   Y|                N|         0.9609375|\n",
            "|R1CJWM6CMWKSA1|          4|           31|         33|   Y|                N|0.9393939393939394|\n",
            "|R39I3FUDBKZM3Y|          5|           34|         38|   Y|                N|0.8947368421052632|\n",
            "|R32LU0KSL7QWSF|          5|           35|         37|   Y|                N|0.9459459459459459|\n",
            "|R2LGDXO3MG2WQW|          5|           37|         41|   Y|                N|0.9024390243902439|\n",
            "|R16AVI2NTYWLKI|          5|           31|         33|   Y|                N|0.9393939393939394|\n",
            "|R12K0ITIV6AYM3|          5|           34|         34|   Y|                N|               1.0|\n",
            "| R9ILZLNNK93CO|          5|           38|         39|   Y|                N|0.9743589743589743|\n",
            "|R1CS8VSI1KSR1P|          5|           21|         22|   Y|                N|0.9545454545454546|\n",
            "|R186TCIH8TEGPY|          5|           40|         43|   Y|                N|0.9302325581395349|\n",
            "| R3GBQRR2GY4SP|          4|          119|        125|   Y|                N|             0.952|\n",
            "+--------------+-----------+-------------+-----------+----+-----------------+------------------+\n",
            "only showing top 20 rows\n",
            "\n"
          ],
          "name": "stdout"
        }
      ]
    },
    {
      "cell_type": "code",
      "metadata": {
        "id": "bDDnQyis-URi",
        "outputId": "7d518e43-06a7-4c11-8cda-e8caa04b7129",
        "colab": {
          "base_uri": "https://localhost:8080/"
        }
      },
      "source": [
        "# Step 4: Create a new DF: condition => vine=='N'\n",
        "vine_N_df = helpful_votes50_df.filter(helpful_votes50_df['vine'] == 'N')\n",
        "vine_N_df.show()"
      ],
      "execution_count": 91,
      "outputs": [
        {
          "output_type": "stream",
          "text": [
            "+--------------+-----------+-------------+-----------+----+-----------------+------------------+\n",
            "|     review_id|star_rating|helpful_votes|total_votes|vine|verified_purchase|          grater50|\n",
            "+--------------+-----------+-------------+-----------+----+-----------------+------------------+\n",
            "|R2FP3U4NHNFNL2|          5|           25|         29|   N|                Y|0.8620689655172413|\n",
            "|R1UUK1977O38MU|          5|           31|         31|   N|                Y|               1.0|\n",
            "| RXO216LWUDV6O|          3|           29|         31|   N|                Y|0.9354838709677419|\n",
            "|R3NMJF7EBMM19V|          3|           26|         27|   N|                Y|0.9629629629629629|\n",
            "|R2ZY0ZBDUO0XUY|          3|           20|         21|   N|                Y|0.9523809523809523|\n",
            "| RBDVHX7PMQEKM|          5|           35|         39|   N|                Y|0.8974358974358975|\n",
            "| RGO3KSDXYWTGU|          4|           26|         26|   N|                Y|               1.0|\n",
            "|R1E1PQGHWGO3Q1|          1|           89|         96|   N|                Y|0.9270833333333334|\n",
            "|R1XOXXUVYZEDJB|          5|           22|         22|   N|                Y|               1.0|\n",
            "| R7SHITUU5UG9U|          5|           27|         27|   N|                Y|               1.0|\n",
            "|R230TLHU91M5Y3|          4|           21|         21|   N|                Y|               1.0|\n",
            "| RHR5MKO23K9TU|          5|           26|         30|   N|                Y|0.8666666666666667|\n",
            "|R1HGK3TCY161D7|          5|           52|         55|   N|                N|0.9454545454545454|\n",
            "|R340QYAVNZZHJA|          4|           25|         25|   N|                N|               1.0|\n",
            "|R2F1UVQK0JL4QH|          3|           20|         20|   N|                Y|               1.0|\n",
            "|R1N21UY546VWMN|          2|           48|         50|   N|                Y|              0.96|\n",
            "|R1E4L344EK0ZOT|          5|           20|         26|   N|                N|0.7692307692307693|\n",
            "|R282QUZDDJW3ON|          4|           45|         49|   N|                Y|0.9183673469387755|\n",
            "|R3H5T3T7QY3ZL2|          5|          247|        263|   N|                Y|0.9391634980988594|\n",
            "|R3W1A1P95IIGHX|          5|           23|         25|   N|                N|              0.92|\n",
            "+--------------+-----------+-------------+-----------+----+-----------------+------------------+\n",
            "only showing top 20 rows\n",
            "\n"
          ],
          "name": "stdout"
        }
      ]
    },
    {
      "cell_type": "code",
      "metadata": {
        "id": "xq2SmdVlYgkS",
        "outputId": "09f4123c-1c7a-47fd-8ddd-bdc3ce3bb498",
        "colab": {
          "base_uri": "https://localhost:8080/"
        }
      },
      "source": [
        "# Step 5.1: vine_reviews_YES: 'total number of reviews' & 'number of 5-stars reviews' & '% of 5-stars reviews'\n",
        "# Step 5.1.a: total number of reviews\n",
        "vineY_reviews_TOTAL_df = vine_Y_df.agg({'review_id':'count'}).withColumnRenamed(\"count(review_id)\", \"Total_Vine_Reviews\")\n",
        "vineY_reviews_TOTAL_df.show()"
      ],
      "execution_count": 92,
      "outputs": [
        {
          "output_type": "stream",
          "text": [
            "+------------------+\n",
            "|Total_Vine_Reviews|\n",
            "+------------------+\n",
            "|               107|\n",
            "+------------------+\n",
            "\n"
          ],
          "name": "stdout"
        }
      ]
    },
    {
      "cell_type": "code",
      "metadata": {
        "id": "DqxlqQgxAROW",
        "outputId": "63343994-1136-43a1-bdb2-d6695b395ac8",
        "colab": {
          "base_uri": "https://localhost:8080/"
        }
      },
      "source": [
        "# Step 5.1.b: 5-star revievs \n",
        "vineY_reviews_5STAR_df = vine_Y_df.filter('star_rating==5').agg({'star_rating':'count'}).withColumnRenamed(\"count(star_rating)\", \"5-stars_Vine_Reviews\")\n",
        "vineY_reviews_5STAR_df.show()"
      ],
      "execution_count": 93,
      "outputs": [
        {
          "output_type": "stream",
          "text": [
            "+--------------------+\n",
            "|5-stars_Vine_Reviews|\n",
            "+--------------------+\n",
            "|                  56|\n",
            "+--------------------+\n",
            "\n"
          ],
          "name": "stdout"
        }
      ]
    },
    {
      "cell_type": "code",
      "metadata": {
        "id": "dcKSixxPndbR",
        "outputId": "227ed3e6-4ebe-45de-9a88-55a81cd56ae7",
        "colab": {
          "base_uri": "https://localhost:8080/"
        }
      },
      "source": [
        "vineY_reviews_percentage = vineY_reviews_5STAR_df.collect()[0]['5-stars_Vine_Reviews'] / vineY_reviews_TOTAL_df.collect()[0]['Total_Vine_Reviews'] * 100\n",
        "round(vineY_reviews_percentage,2)"
      ],
      "execution_count": 95,
      "outputs": [
        {
          "output_type": "execute_result",
          "data": {
            "text/plain": [
              "52.34"
            ]
          },
          "metadata": {
            "tags": []
          },
          "execution_count": 95
        }
      ]
    },
    {
      "cell_type": "code",
      "metadata": {
        "id": "9hyvxzeL_HMy",
        "outputId": "9c11c65b-f802-47d2-c0e8-f256f12a90ad",
        "colab": {
          "base_uri": "https://localhost:8080/"
        }
      },
      "source": [
        "# Step 5.2: vine_reviews_NO: 'total number of reviews' & 'number of 5-stars reviews' & '% of 5-stars reviews '\n",
        "# Step 5.2.a: total number of reviews\n",
        "vineN_reviews_TOTAL_df = vine_N_df.agg({'review_id':'count'}).withColumnRenamed(\"count(review_id)\", \"Total_non-Vine_Reviews\")\n",
        "vineN_reviews_TOTAL_df.show()"
      ],
      "execution_count": 94,
      "outputs": [
        {
          "output_type": "stream",
          "text": [
            "+----------------------+\n",
            "|Total_non-Vine_Reviews|\n",
            "+----------------------+\n",
            "|                 39869|\n",
            "+----------------------+\n",
            "\n"
          ],
          "name": "stdout"
        }
      ]
    },
    {
      "cell_type": "code",
      "metadata": {
        "id": "oAV2oBj2D6w6",
        "outputId": "1e69bea3-dd89-4a61-d51e-058f78418893",
        "colab": {
          "base_uri": "https://localhost:8080/"
        }
      },
      "source": [
        "# Step 5.2.a: number of 5-stars reviews\n",
        "vineN_reviews_5STAR_df = vine_N_df.filter('star_rating==5').agg({'star_rating':'count'}).withColumnRenamed(\"count(star_rating)\", \"5-stars_non-Vine_Reviews\")\n",
        "vineN_reviews_5STAR_df.show()"
      ],
      "execution_count": 96,
      "outputs": [
        {
          "output_type": "stream",
          "text": [
            "+------------------------+\n",
            "|5-stars_non-Vine_Reviews|\n",
            "+------------------------+\n",
            "|                   21005|\n",
            "+------------------------+\n",
            "\n"
          ],
          "name": "stdout"
        }
      ]
    },
    {
      "cell_type": "code",
      "metadata": {
        "id": "_JK9m5vyu7nl",
        "outputId": "191c07ce-730d-4ca3-f28b-d4606c7d2468",
        "colab": {
          "base_uri": "https://localhost:8080/"
        }
      },
      "source": [
        "vineN_reviews_percentage = vineN_reviews_5STAR_df.collect()[0]['5-stars_non-Vine_Reviews'] / vineN_reviews_TOTAL_df.collect()[0]['Total_non-Vine_Reviews'] * 100\n",
        "round(vineN_reviews_percentage,2)"
      ],
      "execution_count": 97,
      "outputs": [
        {
          "output_type": "execute_result",
          "data": {
            "text/plain": [
              "52.69"
            ]
          },
          "metadata": {
            "tags": []
          },
          "execution_count": 97
        }
      ]
    },
    {
      "cell_type": "code",
      "metadata": {
        "id": "xyf78CRtWt-O",
        "outputId": "4acb8896-573b-46ab-f51c-ee41db3e5bc2",
        "colab": {
          "base_uri": "https://localhost:8080/"
        }
      },
      "source": [
        "# Create data frame for % results\n",
        "percentage_df = spark.createDataFrame([\n",
        "                                       (52.34, 52.69)],\n",
        "                                      ['Percentage Vine Reviews', \"Percentage non-Vine Reviews\"])\n",
        "percentage_df.show()"
      ],
      "execution_count": 98,
      "outputs": [
        {
          "output_type": "stream",
          "text": [
            "+-----------------------+---------------------------+\n",
            "|Percentage Vine Reviews|Percentage non-Vine Reviews|\n",
            "+-----------------------+---------------------------+\n",
            "|                  52.34|                      52.69|\n",
            "+-----------------------+---------------------------+\n",
            "\n"
          ],
          "name": "stdout"
        }
      ]
    },
    {
      "cell_type": "code",
      "metadata": {
        "id": "Vx_EcPRRIKh5"
      },
      "source": [
        "# Positivity Bias - additional calculations\n",
        "# Vine Reviews\n",
        "all_stars_YES = vine_Y_df.groupby(\"star_rating\").agg({\"review_id\":\"count\"}).withColumnRenamed(\"count(review_id)\", \"Count of Reviews Vine\")\n"
      ],
      "execution_count": 99,
      "outputs": []
    },
    {
      "cell_type": "code",
      "metadata": {
        "id": "sCEwJX4mimPF",
        "outputId": "a7aca230-288c-4c6e-e4d5-6b3a780cf838",
        "colab": {
          "base_uri": "https://localhost:8080/"
        }
      },
      "source": [
        "# Vine Reviews (cont)\n",
        "import pyspark.sql.functions as func\n",
        "all_stars_YES_percentage = all_stars_YES.withColumn('% of total', func.round(all_stars_YES['Count of Reviews Vine']/ \\\n",
        "                                                (vineY_reviews_TOTAL_df.collect()[0]['Total_Vine_Reviews']/100), 2)) \\\n",
        "                                                .orderBy(all_stars_YES['star_rating'].asc()).show()"
      ],
      "execution_count": 101,
      "outputs": [
        {
          "output_type": "stream",
          "text": [
            "+-----------+---------------------+----------+\n",
            "|star_rating|Count of Reviews Vine|% of total|\n",
            "+-----------+---------------------+----------+\n",
            "|          1|                    1|      0.93|\n",
            "|          2|                    2|      1.87|\n",
            "|          3|                   16|     14.95|\n",
            "|          4|                   32|     29.91|\n",
            "|          5|                   56|     52.34|\n",
            "+-----------+---------------------+----------+\n",
            "\n"
          ],
          "name": "stdout"
        }
      ]
    },
    {
      "cell_type": "code",
      "metadata": {
        "id": "u871hSWPgkju"
      },
      "source": [
        "# non-Vine Reviews\n",
        "all_stars_NO = vine_N_df.groupby(\"star_rating\").agg({\"review_id\":\"count\"}).withColumnRenamed(\"count(review_id)\", \"Count of Reviews non-Vine\")"
      ],
      "execution_count": 102,
      "outputs": []
    },
    {
      "cell_type": "code",
      "metadata": {
        "id": "te1qzTIn180S",
        "outputId": "2376f1aa-3c88-4448-e659-08833325e56e",
        "colab": {
          "base_uri": "https://localhost:8080/"
        }
      },
      "source": [
        "# non-Vine Reviews (cont)\n",
        "all_stars_NO_percentage = all_stars_NO.withColumn('% of total', func.round(all_stars_NO['Count of Reviews non-Vine']/ \\\n",
        "                                            (vineN_reviews_TOTAL_df.collect()[0]['Total_non-Vine_Reviews']/100), 2))  \\\n",
        "                                            .orderBy(all_stars_NO['star_rating'].asc()).show()"
      ],
      "execution_count": 103,
      "outputs": [
        {
          "output_type": "stream",
          "text": [
            "+-----------+-------------------------+----------+\n",
            "|star_rating|Count of Reviews non-Vine|% of total|\n",
            "+-----------+-------------------------+----------+\n",
            "|          1|                     5324|     13.35|\n",
            "|          2|                     2412|      6.05|\n",
            "|          3|                     3744|      9.39|\n",
            "|          4|                     7384|     18.52|\n",
            "|          5|                    21005|     52.69|\n",
            "+-----------+-------------------------+----------+\n",
            "\n"
          ],
          "name": "stdout"
        }
      ]
    }
  ]
}